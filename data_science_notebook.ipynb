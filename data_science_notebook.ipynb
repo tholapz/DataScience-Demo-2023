{
  "nbformat": 4,
  "nbformat_minor": 0,
  "metadata": {
    "colab": {
      "provenance": [],
      "authorship_tag": "ABX9TyOjeAQjv8eJhYZ8wocy6Wql",
      "include_colab_link": true
    },
    "kernelspec": {
      "name": "python3",
      "display_name": "Python 3"
    },
    "language_info": {
      "name": "python"
    }
  },
  "cells": [
    {
      "cell_type": "markdown",
      "metadata": {
        "id": "view-in-github",
        "colab_type": "text"
      },
      "source": [
        "<a href=\"https://colab.research.google.com/github/tholapz/DataScience-Demo-2023/blob/main/data_science_notebook.ipynb\" target=\"_parent\"><img src=\"https://colab.research.google.com/assets/colab-badge.svg\" alt=\"Open In Colab\"/></a>"
      ]
    },
    {
      "cell_type": "markdown",
      "source": [
        "## Ingest\n"
      ],
      "metadata": {
        "id": "O0Lrz7tev2uq"
      }
    },
    {
      "cell_type": "code",
      "execution_count": null,
      "metadata": {
        "id": "dZbZ17rgvxMg"
      },
      "outputs": [],
      "source": []
    },
    {
      "cell_type": "markdown",
      "source": [
        "## EDA"
      ],
      "metadata": {
        "id": "6CS24-qiwBaC"
      }
    },
    {
      "cell_type": "code",
      "source": [],
      "metadata": {
        "id": "0V8ciL51wEoa"
      },
      "execution_count": null,
      "outputs": []
    },
    {
      "cell_type": "markdown",
      "source": [
        "## Modeling"
      ],
      "metadata": {
        "id": "aprAlTZlwGDB"
      }
    },
    {
      "cell_type": "code",
      "source": [],
      "metadata": {
        "id": "9UnFxzZTwIFZ"
      },
      "execution_count": null,
      "outputs": []
    },
    {
      "cell_type": "markdown",
      "source": [
        "### Classification Algorithm A"
      ],
      "metadata": {
        "id": "3jU7XgT5wYA4"
      }
    },
    {
      "cell_type": "code",
      "source": [],
      "metadata": {
        "id": "gB_ss4U5wark"
      },
      "execution_count": null,
      "outputs": []
    },
    {
      "cell_type": "markdown",
      "source": [
        "### Classification Algorithm B"
      ],
      "metadata": {
        "id": "4FxRCllYwazo"
      }
    },
    {
      "cell_type": "code",
      "source": [],
      "metadata": {
        "id": "RpM1wUInwc83"
      },
      "execution_count": null,
      "outputs": []
    },
    {
      "cell_type": "markdown",
      "source": [
        "## Conclusion"
      ],
      "metadata": {
        "id": "oSOOhL3XwMTT"
      }
    },
    {
      "cell_type": "code",
      "source": [],
      "metadata": {
        "id": "MYjyEa6awN69"
      },
      "execution_count": null,
      "outputs": []
    }
  ]
}